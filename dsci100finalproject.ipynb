{
 "cells": [
  {
   "cell_type": "markdown",
   "id": "f5a0e55f-33dd-4792-aec6-df3df2aa5c74",
   "metadata": {},
   "source": [
    "<h1 style=\"text-align:center\">Title</h1>"
   ]
  },
  {
   "cell_type": "markdown",
   "id": "592f7f15-abd6-4bf7-88ba-1ad0e3ef1634",
   "metadata": {},
   "source": [
    "<h1 style=\"text-align:center\">Introduction</h1>"
   ]
  },
  {
   "cell_type": "markdown",
   "id": "ab50a91e-1c78-4454-a3ca-56d8837638e6",
   "metadata": {},
   "source": [
    "<h1 style=\"text-align:center\">Methods & Results</h1>"
   ]
  },
  {
   "cell_type": "markdown",
   "id": "02f2c9d6-b9cc-4b7f-99aa-bc825898cac9",
   "metadata": {},
   "source": [
    "<h1 style=\"text-align:center\">Discussion</h1>"
   ]
  },
  {
   "cell_type": "markdown",
   "id": "e3589b5f-bd5d-4be5-9a23-95ab0dece30c",
   "metadata": {},
   "source": [
    "<h1 style=\"text-align:center\">References</h1>"
   ]
  },
  {
   "cell_type": "markdown",
   "id": "e113e01f-4cfe-4393-8da0-e432840fc30a",
   "metadata": {},
   "source": []
  },
  {
   "cell_type": "code",
   "execution_count": null,
   "id": "fdeb1ad7-35e9-4421-9b23-cb5af46f6939",
   "metadata": {},
   "outputs": [],
   "source": []
  }
 ],
 "metadata": {
  "kernelspec": {
   "display_name": "R",
   "language": "R",
   "name": "ir"
  },
  "language_info": {
   "codemirror_mode": "r",
   "file_extension": ".r",
   "mimetype": "text/x-r-source",
   "name": "R",
   "pygments_lexer": "r",
   "version": "4.3.1"
  }
 },
 "nbformat": 4,
 "nbformat_minor": 5
}

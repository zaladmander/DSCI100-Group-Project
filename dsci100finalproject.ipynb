{
 "cells": [
  {
   "cell_type": "markdown",
   "id": "f5a0e55f-33dd-4792-aec6-df3df2aa5c74",
   "metadata": {},
   "source": [
    "# Can we accurately predict the color of Vinho Verde wine based on selected physiochemical variables? \n",
    "##### Introduction with the preliminary exploratory data analysis:\n",
    "Understanding the factors that influence the color of Vinho Verde wine is essential for enhancing the quality control and production processes in the wine industry. In this study, we aim to investigate whether it is feasible to predict the color of Vinho Verde wine using specific physicochemical variables. Analyzing these relationships can provide valuable insights for winemakers to optimize production techniques and maintain consistent product quality.\n",
    "\n",
    "We will be utilizing the [Wine Quality](https://archive.ics.uci.edu/dataset/186/wine+quality) datasets, containing information on physicochemical properties and color attributes of Vinho Verde wines. Our researhc question is as follows: Can we accurately predict the color of Vinho Verde wine (either red or white) based on selected physiochemical variables that are added to alter the sensory and antioxidant properties of the wine?\n",
    "\n"
   ]
  },
  {
   "cell_type": "code",
   "execution_count": null,
   "id": "f17d558a",
   "metadata": {
    "vscode": {
     "languageId": "r"
    }
   },
   "outputs": [
    {
     "name": "stderr",
     "output_type": "stream",
     "text": [
      "Warning message:\n",
      "“package ‘ggplot2’ was built under R version 4.3.2”\n",
      "── \u001b[1mAttaching core tidyverse packages\u001b[22m ──────────────────────── tidyverse 2.0.0 ──\n",
      "\u001b[32m✔\u001b[39m \u001b[34mdplyr    \u001b[39m 1.1.3     \u001b[32m✔\u001b[39m \u001b[34mreadr    \u001b[39m 2.1.4\n",
      "\u001b[32m✔\u001b[39m \u001b[34mforcats  \u001b[39m 1.0.0     \u001b[32m✔\u001b[39m \u001b[34mstringr  \u001b[39m 1.5.0\n",
      "\u001b[32m✔\u001b[39m \u001b[34mggplot2  \u001b[39m 3.5.0     \u001b[32m✔\u001b[39m \u001b[34mtibble   \u001b[39m 3.2.1\n",
      "\u001b[32m✔\u001b[39m \u001b[34mlubridate\u001b[39m 1.9.2     \u001b[32m✔\u001b[39m \u001b[34mtidyr    \u001b[39m 1.3.0\n",
      "\u001b[32m✔\u001b[39m \u001b[34mpurrr    \u001b[39m 1.0.2     \n",
      "── \u001b[1mConflicts\u001b[22m ────────────────────────────────────────── tidyverse_conflicts() ──\n",
      "\u001b[31m✖\u001b[39m \u001b[34mdplyr\u001b[39m::\u001b[32mfilter()\u001b[39m masks \u001b[34mstats\u001b[39m::filter()\n",
      "\u001b[31m✖\u001b[39m \u001b[34mdplyr\u001b[39m::\u001b[32mlag()\u001b[39m    masks \u001b[34mstats\u001b[39m::lag()\n",
      "\u001b[36mℹ\u001b[39m Use the conflicted package (\u001b[3m\u001b[34m<http://conflicted.r-lib.org/>\u001b[39m\u001b[23m) to force all conflicts to become errors\n"
     ]
    }
   ],
   "source": [
    "### Run this cell before continuing. \n",
    "library(tidyverse)\n",
    "library(repr)\n",
    "library(dplyr)\n",
    "library(tidyclust)\n",
    "options(repr.matrix.max.rows = 6)"
   ]
  },
  {
   "cell_type": "code",
   "execution_count": null,
   "id": "b2a1f07d",
   "metadata": {
    "vscode": {
     "languageId": "r"
    }
   },
   "outputs": [
    {
     "name": "stderr",
     "output_type": "stream",
     "text": [
      "\u001b[1mRows: \u001b[22m\u001b[34m1599\u001b[39m \u001b[1mColumns: \u001b[22m\u001b[34m12\u001b[39m\n",
      "\u001b[36m──\u001b[39m \u001b[1mColumn specification\u001b[22m \u001b[36m────────────────────────────────────────────────────────\u001b[39m\n",
      "\u001b[1mDelimiter:\u001b[22m \";\"\n",
      "\u001b[32mdbl\u001b[39m (12): fixed acidity, volatile acidity, citric acid, residual sugar, chlo...\n",
      "\n",
      "\u001b[36mℹ\u001b[39m Use `spec()` to retrieve the full column specification for this data.\n",
      "\u001b[36mℹ\u001b[39m Specify the column types or set `show_col_types = FALSE` to quiet this message.\n",
      "\u001b[1mRows: \u001b[22m\u001b[34m4898\u001b[39m \u001b[1mColumns: \u001b[22m\u001b[34m12\u001b[39m\n",
      "\u001b[36m──\u001b[39m \u001b[1mColumn specification\u001b[22m \u001b[36m────────────────────────────────────────────────────────\u001b[39m\n",
      "\u001b[1mDelimiter:\u001b[22m \";\"\n",
      "\u001b[32mdbl\u001b[39m (12): fixed acidity, volatile acidity, citric acid, residual sugar, chlo...\n",
      "\n",
      "\u001b[36mℹ\u001b[39m Use `spec()` to retrieve the full column specification for this data.\n",
      "\u001b[36mℹ\u001b[39m Specify the column types or set `show_col_types = FALSE` to quiet this message.\n"
     ]
    }
   ],
   "source": [
    "red_wine<-read_delim(file=\"data/winequality-red.csv\",delim=\";\")|>\n",
    "        rename(fixed_acidity = `fixed acidity`,\n",
    "               volatile_acidity = `volatile acidity`,\n",
    "               citric_acid = `citric acid`,\n",
    "               residual_sugar = `residual sugar`,\n",
    "               free_SO2 = `free sulfur dioxide`,\n",
    "               total_SO2 = `total sulfur dioxide`\n",
    "                )\n",
    "# glimpse(red_wine)\n",
    "white_wine<-read_delim(file=\"data/winequality-white.csv\",delim=\";\")|>\n",
    "        rename(fixed_acidity = `fixed acidity`,\n",
    "               volatile_acidity = `volatile acidity`,\n",
    "               citric_acid = `citric acid`,\n",
    "               residual_sugar = `residual sugar`,\n",
    "               free_SO2 = `free sulfur dioxide`,\n",
    "               total_SO2 = `total sulfur dioxide`\n",
    "                )\n",
    "# glimpse(white_wine)\n",
    "\n",
    "head(red_wine)\n",
    "tail(red_wine)\n",
    "head(white_wine)\n",
    "tail(white_wine)"
   ]
  },
  {
   "cell_type": "markdown",
   "id": "592f7f15-abd6-4bf7-88ba-1ad0e3ef1634",
   "metadata": {},
   "source": [
    "<h1 style=\"text-align:center\">Introduction</h1>"
   ]
  },
  {
   "cell_type": "markdown",
   "id": "ab50a91e-1c78-4454-a3ca-56d8837638e6",
   "metadata": {},
   "source": [
    "<h1 style=\"text-align:center\">Methods & Results</h1>"
   ]
  },
  {
   "cell_type": "markdown",
   "id": "02f2c9d6-b9cc-4b7f-99aa-bc825898cac9",
   "metadata": {},
   "source": [
    "<h1 style=\"text-align:center\">Discussion</h1>"
   ]
  },
  {
   "cell_type": "markdown",
   "id": "e3589b5f-bd5d-4be5-9a23-95ab0dece30c",
   "metadata": {},
   "source": [
    "<h1 style=\"text-align:center\">References</h1>"
   ]
  },
  {
   "cell_type": "markdown",
   "id": "e113e01f-4cfe-4393-8da0-e432840fc30a",
   "metadata": {},
   "source": []
  },
  {
   "cell_type": "code",
   "execution_count": null,
   "id": "fdeb1ad7-35e9-4421-9b23-cb5af46f6939",
   "metadata": {
    "vscode": {
     "languageId": "r"
    }
   },
   "outputs": [],
   "source": []
  }
 ],
 "metadata": {
  "kernelspec": {
   "display_name": "R",
   "language": "R",
   "name": "ir"
  },
  "language_info": {
   "codemirror_mode": "r",
   "file_extension": ".r",
   "mimetype": "text/x-r-source",
   "name": "R",
   "pygments_lexer": "r",
   "version": "4.3.1"
  }
 },
 "nbformat": 4,
 "nbformat_minor": 5
}

{
 "cells": [
  {
   "cell_type": "code",
   "execution_count": null,
   "id": "3669229b-debd-4bcb-a0f1-2bbeb04fd42e",
   "metadata": {},
   "outputs": [],
   "source": [
    "Project Proposal"
   ]
  }
 ],
 "metadata": {
  "kernelspec": {
   "display_name": "R",
   "language": "R",
   "name": "ir"
  },
  "language_info": {
   "codemirror_mode": "r",
   "file_extension": ".r",
   "mimetype": "text/x-r-source",
   "name": "R",
   "pygments_lexer": "r",
   "version": "4.3.1"
  }
 },
 "nbformat": 4,
 "nbformat_minor": 5
}

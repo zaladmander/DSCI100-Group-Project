{
 "cells": [
  {
   "cell_type": "markdown",
   "id": "b08601e2-b192-4646-94e5-f1e28d325d84",
   "metadata": {},
   "source": [
    "# Project Proposal"
   ]
  },
  {
   "cell_type": "markdown",
   "id": "e20ba23f-61e1-47b4-a928-797d063ec6e8",
   "metadata": {},
   "source": [
    "### Members:\n",
    "- Zander Holoboff (95785903)\n",
    "- Shuyu Li(58785809)\n",
    "- Kabir Sodhi(43245943)\n",
    "- Cheryl Ang (28952851)\n"
   ]
  },
  {
   "cell_type": "markdown",
   "id": "41f25891-4fda-43af-839e-5da286f69411",
   "metadata": {},
   "source": [
    "Our Dataset:\n",
    "https://archive.ics.uci.edu/dataset/186/wine+quality\n"
   ]
  },
  {
   "cell_type": "markdown",
   "id": "5cfbeb4d-f63c-47f5-8f4e-975dc580dac1",
   "metadata": {},
   "source": [
    "# Introduction\n",
    "*(Provide some relevant background information on the topic so that someone unfamiliar with it will be prepared to understand the rest of your proposal\n",
    "Clearly state the question you will try to answer with your project\n",
    "Identify and describe the dataset that will be used to answer the question)*\n",
    "\n",
    "##### This project focuses on answering a classification question.\n",
    "\n",
    "##### Background information:\n",
    "- Vinho Verde originates from the Minho region in northwestern Portugal. It is made from a blend of different grape varieties that maintains the wine's natural acidity and refreshing taste at the same time.\n",
    "- Vinho Verde means \"green wine\" in Portuguese, but the \"green\" in the name does not refer to the color of the wine itself, but to the fact that the wine is best consumed within a year or two of production.\n",
    "- Because red white has more vitamins in general than white wine, we will look at other variables likes sulfur dioxide, sulfate content, alcohol content, chloride content an citric acid content as predictors for the categories of either red or white wine.\n",
    "##### Question:\n",
    "\n",
    "*Can we accurately predict the color of Vinho Verde wine (either red or white) based on physiochemical and sensory variables?*\n",
    "\n",
    "##### Description of the Dataset:\n",
    "The dataset includes two categories of wines: red and white wine.  Due to privacy and logistical issues, both datasets include only the following variables:\n",
    "\n",
    "##### These five variables are usually expressed in g/L (grams per liter):\n",
    "\n",
    "- Fixed acidity: concentration of non-volatile acids in the wine\n",
    "- Volatile acidity: concentration of volatile acids in the wine\n",
    "- Citric acid: concentration of citric acid in the wine\n",
    "- Residual Sugar: the amount of sugar left in the wine after fermentation.\n",
    "- Chloride: concentration of salts in the wine\n",
    "- Sulfate: The concentration of sulfur dioxide salts in a wine.\n",
    "  \n",
    "##### These two variables are usually expressed in parts per million (ppm):\n",
    "\n",
    "- Free Sulfur Dioxide: Concentration of free sulfur dioxide in the wine as a preservative and antioxidant.\n",
    "- Total Sulfur Dioxide: The total concentration of sulfur dioxide, both free and bound.\n",
    "\n",
    "  ----------\n",
    "\n",
    "##### Other variables:\n",
    "\n",
    "- Density: The density of the wine, usually measured in g/ml.\n",
    "- pH: The acidity or alkalinity of a wine, measured on a scale of 0 to 14, the lower the value, the higher the acidity.\n",
    "- Alcohol content: The alcohol content of a wine, usually expressed as a percentage by volume.\n",
    "- Quality: Sensory variables representing the quality of a wine, which can be rated on a scale from poor to excellent.\n",
    "\n",
    "After some more research, it was found that wine makers care more about free sulfure dioxide because it is the active part of sulfur dioxide where as the bound sulfur dioxide does not react with oxygen and other wine materials. Hence, we will look at the free sulfur dioxide content because it would be interesting to see how much sulfur dioxide reacted with oxygen and other wine materials in red wine and white wine as a predictor.\n",
    "\n",
    "### Thus, our predictors will be free sulfur dioxide content, chloride content, residual sugar content, and citric acid content.\n",
    "\n",
    "\n",
    "\n"
   ]
  },
  {
   "cell_type": "code",
   "execution_count": 27,
   "id": "c89906e3-b3b1-46ab-94fb-7c44f9e9478f",
   "metadata": {},
   "outputs": [],
   "source": [
    "### Run this cell before continuing. \n",
    "library(tidyverse)\n",
    "library(repr)\n",
    "library(dplyr)\n",
    "options(repr.matrix.max.rows = 6)"
   ]
  },
  {
   "cell_type": "code",
   "execution_count": 23,
   "id": "a2c95183-d697-45eb-b509-3bb5dd6ac0e2",
   "metadata": {},
   "outputs": [
    {
     "name": "stderr",
     "output_type": "stream",
     "text": [
      "\u001b[1mRows: \u001b[22m\u001b[34m1599\u001b[39m \u001b[1mColumns: \u001b[22m\u001b[34m12\u001b[39m\n",
      "\u001b[36m──\u001b[39m \u001b[1mColumn specification\u001b[22m \u001b[36m────────────────────────────────────────────────────────\u001b[39m\n",
      "\u001b[1mDelimiter:\u001b[22m \";\"\n",
      "\u001b[32mdbl\u001b[39m (12): fixed acidity, volatile acidity, citric acid, residual sugar, chlo...\n",
      "\n",
      "\u001b[36mℹ\u001b[39m Use `spec()` to retrieve the full column specification for this data.\n",
      "\u001b[36mℹ\u001b[39m Specify the column types or set `show_col_types = FALSE` to quiet this message.\n"
     ]
    },
    {
     "name": "stdout",
     "output_type": "stream",
     "text": [
      "Rows: 1,599\n",
      "Columns: 12\n",
      "$ fixed_acidity    \u001b[3m\u001b[90m<dbl>\u001b[39m\u001b[23m 7.4, 7.8, 7.8, 11.2, 7.4, 7.4, 7.9, 7.3, 7.8, 7.5, 6.…\n",
      "$ volatile_acidity \u001b[3m\u001b[90m<dbl>\u001b[39m\u001b[23m 0.700, 0.880, 0.760, 0.280, 0.700, 0.660, 0.600, 0.65…\n",
      "$ citric_acid      \u001b[3m\u001b[90m<dbl>\u001b[39m\u001b[23m 0.00, 0.00, 0.04, 0.56, 0.00, 0.00, 0.06, 0.00, 0.02,…\n",
      "$ residual_sugar   \u001b[3m\u001b[90m<dbl>\u001b[39m\u001b[23m 1.9, 2.6, 2.3, 1.9, 1.9, 1.8, 1.6, 1.2, 2.0, 6.1, 1.8…\n",
      "$ chlorides        \u001b[3m\u001b[90m<dbl>\u001b[39m\u001b[23m 0.076, 0.098, 0.092, 0.075, 0.076, 0.075, 0.069, 0.06…\n",
      "$ free_SO2         \u001b[3m\u001b[90m<dbl>\u001b[39m\u001b[23m 11, 25, 15, 17, 11, 13, 15, 15, 9, 17, 15, 17, 16, 9,…\n",
      "$ total_SO2        \u001b[3m\u001b[90m<dbl>\u001b[39m\u001b[23m 34, 67, 54, 60, 34, 40, 59, 21, 18, 102, 65, 102, 59,…\n",
      "$ density          \u001b[3m\u001b[90m<dbl>\u001b[39m\u001b[23m 0.9978, 0.9968, 0.9970, 0.9980, 0.9978, 0.9978, 0.996…\n",
      "$ pH               \u001b[3m\u001b[90m<dbl>\u001b[39m\u001b[23m 3.51, 3.20, 3.26, 3.16, 3.51, 3.51, 3.30, 3.39, 3.36,…\n",
      "$ sulphates        \u001b[3m\u001b[90m<dbl>\u001b[39m\u001b[23m 0.56, 0.68, 0.65, 0.58, 0.56, 0.56, 0.46, 0.47, 0.57,…\n",
      "$ alcohol          \u001b[3m\u001b[90m<dbl>\u001b[39m\u001b[23m 9.4, 9.8, 9.8, 9.8, 9.4, 9.4, 9.4, 10.0, 9.5, 10.5, 9…\n",
      "$ quality          \u001b[3m\u001b[90m<dbl>\u001b[39m\u001b[23m 5, 5, 5, 6, 5, 5, 5, 7, 7, 5, 5, 5, 5, 5, 5, 5, 7, 5,…\n"
     ]
    },
    {
     "name": "stderr",
     "output_type": "stream",
     "text": [
      "\u001b[1mRows: \u001b[22m\u001b[34m1599\u001b[39m \u001b[1mColumns: \u001b[22m\u001b[34m12\u001b[39m\n",
      "\u001b[36m──\u001b[39m \u001b[1mColumn specification\u001b[22m \u001b[36m────────────────────────────────────────────────────────\u001b[39m\n",
      "\u001b[1mDelimiter:\u001b[22m \";\"\n",
      "\u001b[32mdbl\u001b[39m (12): fixed acidity, volatile acidity, citric acid, residual sugar, chlo...\n",
      "\n",
      "\u001b[36mℹ\u001b[39m Use `spec()` to retrieve the full column specification for this data.\n",
      "\u001b[36mℹ\u001b[39m Specify the column types or set `show_col_types = FALSE` to quiet this message.\n"
     ]
    },
    {
     "name": "stdout",
     "output_type": "stream",
     "text": [
      "Rows: 1,599\n",
      "Columns: 12\n",
      "$ fixed_acidity    \u001b[3m\u001b[90m<dbl>\u001b[39m\u001b[23m 7.4, 7.8, 7.8, 11.2, 7.4, 7.4, 7.9, 7.3, 7.8, 7.5, 6.…\n",
      "$ volatile_acidity \u001b[3m\u001b[90m<dbl>\u001b[39m\u001b[23m 0.700, 0.880, 0.760, 0.280, 0.700, 0.660, 0.600, 0.65…\n",
      "$ citric_acid      \u001b[3m\u001b[90m<dbl>\u001b[39m\u001b[23m 0.00, 0.00, 0.04, 0.56, 0.00, 0.00, 0.06, 0.00, 0.02,…\n",
      "$ residual_sugar   \u001b[3m\u001b[90m<dbl>\u001b[39m\u001b[23m 1.9, 2.6, 2.3, 1.9, 1.9, 1.8, 1.6, 1.2, 2.0, 6.1, 1.8…\n",
      "$ chlorides        \u001b[3m\u001b[90m<dbl>\u001b[39m\u001b[23m 0.076, 0.098, 0.092, 0.075, 0.076, 0.075, 0.069, 0.06…\n",
      "$ free_SO2         \u001b[3m\u001b[90m<dbl>\u001b[39m\u001b[23m 11, 25, 15, 17, 11, 13, 15, 15, 9, 17, 15, 17, 16, 9,…\n",
      "$ total_SO2        \u001b[3m\u001b[90m<dbl>\u001b[39m\u001b[23m 34, 67, 54, 60, 34, 40, 59, 21, 18, 102, 65, 102, 59,…\n",
      "$ density          \u001b[3m\u001b[90m<dbl>\u001b[39m\u001b[23m 0.9978, 0.9968, 0.9970, 0.9980, 0.9978, 0.9978, 0.996…\n",
      "$ pH               \u001b[3m\u001b[90m<dbl>\u001b[39m\u001b[23m 3.51, 3.20, 3.26, 3.16, 3.51, 3.51, 3.30, 3.39, 3.36,…\n",
      "$ sulphates        \u001b[3m\u001b[90m<dbl>\u001b[39m\u001b[23m 0.56, 0.68, 0.65, 0.58, 0.56, 0.56, 0.46, 0.47, 0.57,…\n",
      "$ alcohol          \u001b[3m\u001b[90m<dbl>\u001b[39m\u001b[23m 9.4, 9.8, 9.8, 9.8, 9.4, 9.4, 9.4, 10.0, 9.5, 10.5, 9…\n",
      "$ quality          \u001b[3m\u001b[90m<dbl>\u001b[39m\u001b[23m 5, 5, 5, 6, 5, 5, 5, 7, 7, 5, 5, 5, 5, 5, 5, 5, 7, 5,…\n"
     ]
    }
   ],
   "source": [
    "red_wine<-read_delim(file=\"data/winequality-red.csv\",delim=\";\")|>\n",
    "        rename(fixed_acidity = `fixed acidity`,\n",
    "               volatile_acidity = `volatile acidity`,\n",
    "               citric_acid = `citric acid`,\n",
    "               residual_sugar = `residual sugar`,\n",
    "               free_SO2 = `free sulfur dioxide`,\n",
    "               total_SO2 = `total sulfur dioxide`\n",
    "                )\n",
    "glimpse(red_wine)\n",
    "white_wine<-read_delim(file=\"data/winequality-red.csv\",delim=\";\")|>\n",
    "        rename(fixed_acidity = `fixed acidity`,\n",
    "               volatile_acidity = `volatile acidity`,\n",
    "               citric_acid = `citric acid`,\n",
    "               residual_sugar = `residual sugar`,\n",
    "               free_SO2 = `free sulfur dioxide`,\n",
    "               total_SO2 = `total sulfur dioxide`\n",
    "                )\n",
    "glimpse(white_wine)"
   ]
  },
  {
   "cell_type": "markdown",
   "id": "6c55baae-c95a-482c-87ec-0c90712bfdac",
   "metadata": {},
   "source": [
    "Thus, our predictors will be free sulfur dioxide content, chloride content, residual sugar content, and citric acid content."
   ]
  },
  {
   "cell_type": "code",
   "execution_count": 39,
   "id": "e8607912-3410-42a2-9675-a34f279a9b85",
   "metadata": {},
   "outputs": [
    {
     "data": {
      "text/html": [
       "<table class=\"dataframe\">\n",
       "<caption>A tibble: 3198 × 5</caption>\n",
       "<thead>\n",
       "\t<tr><th scope=col>free_SO2</th><th scope=col>chlorides</th><th scope=col>residual_sugar</th><th scope=col>citric_acid</th><th scope=col>color</th></tr>\n",
       "\t<tr><th scope=col>&lt;dbl&gt;</th><th scope=col>&lt;dbl&gt;</th><th scope=col>&lt;dbl&gt;</th><th scope=col>&lt;dbl&gt;</th><th scope=col>&lt;chr&gt;</th></tr>\n",
       "</thead>\n",
       "<tbody>\n",
       "\t<tr><td>11</td><td>0.076</td><td>1.9</td><td>0.00</td><td>red</td></tr>\n",
       "\t<tr><td>25</td><td>0.098</td><td>2.6</td><td>0.00</td><td>red</td></tr>\n",
       "\t<tr><td>15</td><td>0.092</td><td>2.3</td><td>0.04</td><td>red</td></tr>\n",
       "\t<tr><td>⋮</td><td>⋮</td><td>⋮</td><td>⋮</td><td>⋮</td></tr>\n",
       "\t<tr><td>29</td><td>0.076</td><td>2.3</td><td>0.13</td><td>white</td></tr>\n",
       "\t<tr><td>32</td><td>0.075</td><td>2.0</td><td>0.12</td><td>white</td></tr>\n",
       "\t<tr><td>18</td><td>0.067</td><td>3.6</td><td>0.47</td><td>white</td></tr>\n",
       "</tbody>\n",
       "</table>\n"
      ],
      "text/latex": [
       "A tibble: 3198 × 5\n",
       "\\begin{tabular}{lllll}\n",
       " free\\_SO2 & chlorides & residual\\_sugar & citric\\_acid & color\\\\\n",
       " <dbl> & <dbl> & <dbl> & <dbl> & <chr>\\\\\n",
       "\\hline\n",
       "\t 11 & 0.076 & 1.9 & 0.00 & red\\\\\n",
       "\t 25 & 0.098 & 2.6 & 0.00 & red\\\\\n",
       "\t 15 & 0.092 & 2.3 & 0.04 & red\\\\\n",
       "\t ⋮ & ⋮ & ⋮ & ⋮ & ⋮\\\\\n",
       "\t 29 & 0.076 & 2.3 & 0.13 & white\\\\\n",
       "\t 32 & 0.075 & 2.0 & 0.12 & white\\\\\n",
       "\t 18 & 0.067 & 3.6 & 0.47 & white\\\\\n",
       "\\end{tabular}\n"
      ],
      "text/markdown": [
       "\n",
       "A tibble: 3198 × 5\n",
       "\n",
       "| free_SO2 &lt;dbl&gt; | chlorides &lt;dbl&gt; | residual_sugar &lt;dbl&gt; | citric_acid &lt;dbl&gt; | color &lt;chr&gt; |\n",
       "|---|---|---|---|---|\n",
       "| 11 | 0.076 | 1.9 | 0.00 | red |\n",
       "| 25 | 0.098 | 2.6 | 0.00 | red |\n",
       "| 15 | 0.092 | 2.3 | 0.04 | red |\n",
       "| ⋮ | ⋮ | ⋮ | ⋮ | ⋮ |\n",
       "| 29 | 0.076 | 2.3 | 0.13 | white |\n",
       "| 32 | 0.075 | 2.0 | 0.12 | white |\n",
       "| 18 | 0.067 | 3.6 | 0.47 | white |\n",
       "\n"
      ],
      "text/plain": [
       "     free_SO2 chlorides residual_sugar citric_acid color\n",
       "1    11       0.076     1.9            0.00        red  \n",
       "2    25       0.098     2.6            0.00        red  \n",
       "3    15       0.092     2.3            0.04        red  \n",
       "⋮    ⋮        ⋮         ⋮              ⋮           ⋮    \n",
       "3196 29       0.076     2.3            0.13        white\n",
       "3197 32       0.075     2.0            0.12        white\n",
       "3198 18       0.067     3.6            0.47        white"
      ]
     },
     "metadata": {},
     "output_type": "display_data"
    }
   ],
   "source": [
    "#red_wine2<-red_wine|>\n",
    " #           select(free_SO2, chlorides, residual_sugar,citric_acid)\n",
    "#white_wine2<-white_wine|>\n",
    "#            select(free_SO2, chlorides, residual_sugar,citric_acid)\n",
    "red_wine$color<- \"red\" # adds  category with $\n",
    "white_wine$color <- \"white\" # adds category with $\n",
    "combined_wine<-bind_rows(red_wine,white_wine)\n",
    "write_csv2(combined_wine,\"combined_wine.csv\")\n",
    "\n",
    "combined_wine2<-combined_wine|>\n",
    "                select(free_SO2, chlorides, residual_sugar,citric_acid,color)\n",
    "\n",
    "combined_wine2\n"
   ]
  },
  {
   "cell_type": "code",
   "execution_count": null,
   "id": "f18ddc58-4fbc-4cb1-af2c-649b3c5b1c35",
   "metadata": {},
   "outputs": [],
   "source": []
  }
 ],
 "metadata": {
  "kernelspec": {
   "display_name": "R",
   "language": "R",
   "name": "ir"
  },
  "language_info": {
   "codemirror_mode": "r",
   "file_extension": ".r",
   "mimetype": "text/x-r-source",
   "name": "R",
   "pygments_lexer": "r",
   "version": "4.3.1"
  }
 },
 "nbformat": 4,
 "nbformat_minor": 5
}

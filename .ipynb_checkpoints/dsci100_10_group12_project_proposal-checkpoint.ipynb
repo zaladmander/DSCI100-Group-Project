{
 "cells": [
  {
   "cell_type": "markdown",
   "id": "b08601e2-b192-4646-94e5-f1e28d325d84",
   "metadata": {},
   "source": [
    "# Project Proposal"
   ]
  },
  {
   "cell_type": "markdown",
   "id": "e20ba23f-61e1-47b4-a928-797d063ec6e8",
   "metadata": {},
   "source": [
    "### Members:\n",
    "- Zander Holoboff (95785903)\n",
    "- Shuyu Li(58785809)\n",
    "- Kabir Sodhi(43245943)\n",
    "- Cheryl Ang (28952851)\n"
   ]
  },
  {
   "cell_type": "markdown",
   "id": "41f25891-4fda-43af-839e-5da286f69411",
   "metadata": {},
   "source": [
    "Our Dataset:\n",
    "https://archive.ics.uci.edu/dataset/186/wine+quality\n"
   ]
  },
  {
   "cell_type": "markdown",
   "id": "5cfbeb4d-f63c-47f5-8f4e-975dc580dac1",
   "metadata": {},
   "source": [
    "# Introduction\n",
    "*(Provide some relevant background information on the topic so that someone unfamiliar with it will be prepared to understand the rest of your proposal\n",
    "Clearly state the question you will try to answer with your project\n",
    "Identify and describe the dataset that will be used to answer the question)*\n",
    "\n",
    "##### Background information:\n",
    "- The two datasets are related to red and white variants of the Portuguese \"Vinho Verde\" wine.\n",
    "- The dataset has the following variables: fixed acidity (concentration of non-volatile acids in the wine\n",
    "), volatile acidity (concentration of volatile acids), citric acid concentration ($g/dm^3$ ), residual sugar content  (g/dm³), chloride content (g/dm³), free sulfur dioxide (mg/dm³), total sulfur dioxide (mg/dm³), density ($g/cm^3$),  pH, sulfate content ($g/dm^3$), alcohol content (vol %), quality (scale from 1-5 representing excellence).\n",
    "- ##### We have chosen the predictors to be free sulfur dioxide ($SO^2$) content (mg/dm³), chloride content (g/dm³), residual sugar content(g/dm³), and citric acid content (g/dm³).\n",
    "- free $SO^2$ content shows the active fraction of the compound that reacts with oxygen and other chemicals in the wine. The other three are selected because they influence the sensory properties of the wine.\n",
    "\n",
    "##### Question:\n",
    "Can we accurately predict the color of Vinho Verde wine (either red or white) based on selected physiochemical variables that are added to alter the sensory properties and shelf-life of the wine?\n",
    "\n",
    "\n"
   ]
  },
  {
   "cell_type": "code",
   "execution_count": 1,
   "id": "c89906e3-b3b1-46ab-94fb-7c44f9e9478f",
   "metadata": {},
   "outputs": [
    {
     "name": "stderr",
     "output_type": "stream",
     "text": [
      "── \u001b[1mAttaching core tidyverse packages\u001b[22m ──────────────────────── tidyverse 2.0.0 ──\n",
      "\u001b[32m✔\u001b[39m \u001b[34mdplyr    \u001b[39m 1.1.3     \u001b[32m✔\u001b[39m \u001b[34mreadr    \u001b[39m 2.1.4\n",
      "\u001b[32m✔\u001b[39m \u001b[34mforcats  \u001b[39m 1.0.0     \u001b[32m✔\u001b[39m \u001b[34mstringr  \u001b[39m 1.5.0\n",
      "\u001b[32m✔\u001b[39m \u001b[34mggplot2  \u001b[39m 3.4.4     \u001b[32m✔\u001b[39m \u001b[34mtibble   \u001b[39m 3.2.1\n",
      "\u001b[32m✔\u001b[39m \u001b[34mlubridate\u001b[39m 1.9.3     \u001b[32m✔\u001b[39m \u001b[34mtidyr    \u001b[39m 1.3.0\n",
      "\u001b[32m✔\u001b[39m \u001b[34mpurrr    \u001b[39m 1.0.2     \n",
      "── \u001b[1mConflicts\u001b[22m ────────────────────────────────────────── tidyverse_conflicts() ──\n",
      "\u001b[31m✖\u001b[39m \u001b[34mdplyr\u001b[39m::\u001b[32mfilter()\u001b[39m masks \u001b[34mstats\u001b[39m::filter()\n",
      "\u001b[31m✖\u001b[39m \u001b[34mdplyr\u001b[39m::\u001b[32mlag()\u001b[39m    masks \u001b[34mstats\u001b[39m::lag()\n",
      "\u001b[36mℹ\u001b[39m Use the conflicted package (\u001b[3m\u001b[34m<http://conflicted.r-lib.org/>\u001b[39m\u001b[23m) to force all conflicts to become errors\n"
     ]
    }
   ],
   "source": [
    "### Run this cell before continuing. \n",
    "library(tidyverse)\n",
    "library(repr)\n",
    "library(dplyr)\n",
    "\n",
    "options(repr.matrix.max.rows = 6)"
   ]
  },
  {
   "cell_type": "code",
   "execution_count": 2,
   "id": "a2c95183-d697-45eb-b509-3bb5dd6ac0e2",
   "metadata": {},
   "outputs": [
    {
     "name": "stderr",
     "output_type": "stream",
     "text": [
      "\u001b[1mRows: \u001b[22m\u001b[34m1599\u001b[39m \u001b[1mColumns: \u001b[22m\u001b[34m12\u001b[39m\n",
      "\u001b[36m──\u001b[39m \u001b[1mColumn specification\u001b[22m \u001b[36m────────────────────────────────────────────────────────\u001b[39m\n",
      "\u001b[1mDelimiter:\u001b[22m \";\"\n",
      "\u001b[32mdbl\u001b[39m (12): fixed acidity, volatile acidity, citric acid, residual sugar, chlo...\n",
      "\n",
      "\u001b[36mℹ\u001b[39m Use `spec()` to retrieve the full column specification for this data.\n",
      "\u001b[36mℹ\u001b[39m Specify the column types or set `show_col_types = FALSE` to quiet this message.\n",
      "\u001b[1mRows: \u001b[22m\u001b[34m4898\u001b[39m \u001b[1mColumns: \u001b[22m\u001b[34m12\u001b[39m\n",
      "\u001b[36m──\u001b[39m \u001b[1mColumn specification\u001b[22m \u001b[36m────────────────────────────────────────────────────────\u001b[39m\n",
      "\u001b[1mDelimiter:\u001b[22m \";\"\n",
      "\u001b[32mdbl\u001b[39m (12): fixed acidity, volatile acidity, citric acid, residual sugar, chlo...\n",
      "\n",
      "\u001b[36mℹ\u001b[39m Use `spec()` to retrieve the full column specification for this data.\n",
      "\u001b[36mℹ\u001b[39m Specify the column types or set `show_col_types = FALSE` to quiet this message.\n"
     ]
    }
   ],
   "source": [
    "red_wine<-read_delim(file=\"data/winequality-red.csv\",delim=\";\")|>\n",
    "        rename(fixed_acidity = `fixed acidity`,\n",
    "               volatile_acidity = `volatile acidity`,\n",
    "               citric_acid = `citric acid`,\n",
    "               residual_sugar = `residual sugar`,\n",
    "               free_SO2 = `free sulfur dioxide`,\n",
    "               total_SO2 = `total sulfur dioxide`\n",
    "                )\n",
    "# glimpse(red_wine)\n",
    "white_wine<-read_delim(file=\"data/winequality-white.csv\",delim=\";\")|>\n",
    "        rename(fixed_acidity = `fixed acidity`,\n",
    "               volatile_acidity = `volatile acidity`,\n",
    "               citric_acid = `citric acid`,\n",
    "               residual_sugar = `residual sugar`,\n",
    "               free_SO2 = `free sulfur dioxide`,\n",
    "               total_SO2 = `total sulfur dioxide`\n",
    "                )\n",
    "# glimpse(white_wine)"
   ]
  },
  {
   "cell_type": "code",
   "execution_count": 3,
   "id": "e8607912-3410-42a2-9675-a34f279a9b85",
   "metadata": {},
   "outputs": [],
   "source": [
    "red_wine$color<- \"red\" # adds  category with $\n",
    "white_wine$color <- \"white\" # adds category with $\n",
    "combined_wine<-bind_rows(red_wine,white_wine)\n",
    "write_csv2(combined_wine,\"combined_wine.csv\")\n",
    "\n",
    "combined_wine2<-combined_wine|>\n",
    "                select(free_SO2, chlorides, residual_sugar,citric_acid,color)\n",
    "\n",
    "#glimpse(combined_wine2)"
   ]
  },
  {
   "cell_type": "code",
   "execution_count": 4,
   "id": "f18ddc58-4fbc-4cb1-af2c-649b3c5b1c35",
   "metadata": {},
   "outputs": [
    {
     "name": "stdout",
     "output_type": "stream",
     "text": [
      "Rows: 4,872\n",
      "Columns: 5\n",
      "$ free_SO2       \u001b[3m\u001b[90m<dbl>\u001b[39m\u001b[23m 11, 25, 15, 17, 11, 13, 15, 15, 9, 17, 16, 9, 51, 6, 17…\n",
      "$ chlorides      \u001b[3m\u001b[90m<dbl>\u001b[39m\u001b[23m 0.076, 0.098, 0.092, 0.075, 0.076, 0.075, 0.069, 0.065,…\n",
      "$ residual_sugar \u001b[3m\u001b[90m<dbl>\u001b[39m\u001b[23m 1.9, 2.6, 2.3, 1.9, 1.9, 1.8, 1.6, 1.2, 2.0, 6.1, 1.6, …\n",
      "$ citric_acid    \u001b[3m\u001b[90m<dbl>\u001b[39m\u001b[23m 0.00, 0.00, 0.04, 0.56, 0.00, 0.00, 0.06, 0.00, 0.02, 0…\n",
      "$ color          \u001b[3m\u001b[90m<chr>\u001b[39m\u001b[23m \"red\", \"red\", \"red\", \"red\", \"red\", \"red\", \"red\", \"red\",…\n"
     ]
    },
    {
     "data": {
      "text/plain": [
       "    free_SO2        chlorides       residual_sugar    citric_acid    \n",
       " Min.   :  1.00   Min.   :0.00900   Min.   : 0.600   Min.   :0.0000  \n",
       " 1st Qu.: 17.00   1st Qu.:0.03800   1st Qu.: 1.800   1st Qu.:0.2500  \n",
       " Median : 29.00   Median :0.04700   Median : 3.000   Median :0.3100  \n",
       " Mean   : 30.51   Mean   :0.05617   Mean   : 5.395   Mean   :0.3186  \n",
       " 3rd Qu.: 41.00   3rd Qu.:0.06500   3rd Qu.: 8.000   3rd Qu.:0.4000  \n",
       " Max.   :289.00   Max.   :0.61100   Max.   :65.800   Max.   :1.2300  \n",
       "    color          \n",
       " Length:4872       \n",
       " Class :character  \n",
       " Mode  :character  \n",
       "                   \n",
       "                   \n",
       "                   "
      ]
     },
     "metadata": {},
     "output_type": "display_data"
    }
   ],
   "source": [
    "library(rsample)\n",
    "set.seed(2024)\n",
    "wine_split<-initial_split(data=combined_wine2, prop=0.75, strata=color)\n",
    "wine_train<-training(wine_split)\n",
    "glimpse(wine_train)\n",
    "summary(wine_train)\n"
   ]
  },
  {
   "cell_type": "code",
   "execution_count": null,
   "id": "266d362d-d0a2-4d4f-868a-f0df8cfa05fe",
   "metadata": {},
   "outputs": [],
   "source": [
    "#train_predictors<-c(free_SO2,chlorides,residual_sugar,citric_acid)\n",
    "library(tidymodels)\n",
    "library(ggplot2)\n",
    "\n",
    "train_data_long<-wine_train|>\n",
    "                pivot_longer(cols=free_SO2:citric_acid, names_to = \"variable\",values_to = \"value\")\n",
    "\n",
    "variable_labels<-c(free_SO2 =\"Free Sulfur \\nDioxide Content (mg/dm³)\",\n",
    "                  chlorides = \"Chloride Content (g/dm³)\",\n",
    "                  residual_sugar = \"Residual Sugar \\nContent (g/dm³)\",\n",
    "                   citric_acid = \"Citric Acid \\nConcentration (g/dm³)\")\n",
    "                    \n",
    "                   \n",
    "plot1<-train_data_long|> ggplot(aes(x = value)) +\n",
    "                                geom_histogram(bins=20)+\n",
    "                                facet_wrap(~ variable, scale=\"free\", labeller = labeller(variable = variable_labels))+\n",
    "                                labs(x=\"Value\", y=\"Frequency\",)+\n",
    "                                ggtitle(\"Distribution of Predictor Variables\")+\n",
    "                                theme(text=element_text(size=20))\n",
    "                                \n",
    "plot1"
   ]
  },
  {
   "cell_type": "markdown",
   "id": "c20c3e94-6e24-497d-98e4-269e3f6fecd3",
   "metadata": {},
   "source": [
    "Using only training data, visualize the data with at least one plot relevant to the analysis you plan to do (this is exploratory data analysis). An example of a useful visualization could be one that compares the distributions of each of the predictor variables you plan to use in your analysis."
   ]
  },
  {
   "cell_type": "code",
   "execution_count": null,
   "id": "bf6713ba-5d7b-4d8b-955b-2343be12b526",
   "metadata": {},
   "outputs": [],
   "source": []
  },
  {
   "cell_type": "code",
   "execution_count": null,
   "id": "316f2afd-b1a3-435f-977f-a08fc1187a79",
   "metadata": {},
   "outputs": [],
   "source": []
  }
 ],
 "metadata": {
  "kernelspec": {
   "display_name": "R",
   "language": "R",
   "name": "ir"
  },
  "language_info": {
   "codemirror_mode": "r",
   "file_extension": ".r",
   "mimetype": "text/x-r-source",
   "name": "R",
   "pygments_lexer": "r",
   "version": "4.3.1"
  }
 },
 "nbformat": 4,
 "nbformat_minor": 5
}

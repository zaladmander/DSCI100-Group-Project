{
 "cells": [
  {
   "cell_type": "markdown",
   "id": "f5a0e55f-33dd-4792-aec6-df3df2aa5c74",
   "metadata": {},
   "source": [
    "<h1 style=\"text-align:center\">Title</h3>"
   ]
  },
  {
   "cell_type": "markdown",
   "id": "d341e068-f038-4a05-84f1-6fe87a86c90a",
   "metadata": {},
   "source": [
    "<h1 style=\"text-align:center\">Introduction</h1>\n",
    "\n",
    "<p>Understanding the factors that influence the color of Vinho Verde wine, which is type of Portugese wine, is essential for enhancing the quality control and production processes in the wine industry. In this study, we aim to investigate whether it is feasible to predict the color of Vinho Verde wine using specific physicochemical variables. Analyzing these relationships can provide valuable insights for winemakers to optimize production techniques and maintain consistent product quality. We will be utilizing Wine Quality datasets, containing information on physicochemical properties and color attributes of Vinho Verde wines. The two datasets are related to red and white variants of the Portuguese \"Vinho Verde\" wine which has the following variables: fixed acidity (concentration of non-volatile acids in the wine), volatile acidity (concentration of volatile acids), citric acid concentration (in $g/dm^3$ ), residual sugar content  (g/dm³), chloride content (in g/dm³), free sulfur dioxide (in mg/dm³), total sulfur dioxide (in $mg/cm^3$), density (in $g/cm^3$),  pH, sulfate content (in $g/dm^3$), alcohol content (as a vol percentage), quality (as a scale from 1-5 representing excellence). This study seeks to answer the following question: <b>Can we accurately predict the color of Vinho Verde wine as either red or white using selected physiochemical variables that are added to the wine mixture to alter the sensory and antioxidant properties of the wine?</b></p>\n"
   ]
  },
  {
   "cell_type": "markdown",
   "id": "ab50a91e-1c78-4454-a3ca-56d8837638e6",
   "metadata": {},
   "source": [
    "<h1 style=\"text-align:center\">Methods & Results</h1><!--  -->\n",
    "\n",
    "\n"
   ]
  },
  {
   "cell_type": "code",
   "execution_count": 19,
   "id": "97aec125-3742-4ddc-b155-69a88728e6ec",
   "metadata": {},
   "outputs": [],
   "source": [
    "### Run this cell before continuing. \n",
    "library(tidyverse)\n",
    "library(repr)\n",
    "library(dplyr)\n",
    "library(tidyclust)\n",
    "options(repr.matrix.max.rows = 6)"
   ]
  },
  {
   "cell_type": "code",
   "execution_count": 18,
   "id": "e09be1b8-d4d0-4774-9116-3c9f44ab8cbc",
   "metadata": {},
   "outputs": [
    {
     "ename": "ERROR",
     "evalue": "Error in read_html(url): could not find function \"read_html\"\n",
     "output_type": "error",
     "traceback": [
      "Error in read_html(url): could not find function \"read_html\"\nTraceback:\n"
     ]
    }
   ],
   "source": [
    "\n",
    "url=\"https://raw.githubusercontent.com/zaladmander/DSCI100-Group-Project/main/data/winequality-red.csv\"\n",
    "file<-read_html(url)"
   ]
  },
  {
   "cell_type": "markdown",
   "id": "02f2c9d6-b9cc-4b7f-99aa-bc825898cac9",
   "metadata": {},
   "source": [
    "<h1 style=\"text-align:center\">Discussion</h1>"
   ]
  },
  {
   "cell_type": "markdown",
   "id": "e3589b5f-bd5d-4be5-9a23-95ab0dece30c",
   "metadata": {},
   "source": [
    "<h1 style=\"text-align:center\">References</h1>"
   ]
  },
  {
   "cell_type": "markdown",
   "id": "e113e01f-4cfe-4393-8da0-e432840fc30a",
   "metadata": {},
   "source": []
  },
  {
   "cell_type": "code",
   "execution_count": null,
   "id": "fdeb1ad7-35e9-4421-9b23-cb5af46f6939",
   "metadata": {},
   "outputs": [],
   "source": []
  }
 ],
 "metadata": {
  "kernelspec": {
   "display_name": "R",
   "language": "R",
   "name": "ir"
  },
  "language_info": {
   "codemirror_mode": "r",
   "file_extension": ".r",
   "mimetype": "text/x-r-source",
   "name": "R",
   "pygments_lexer": "r",
   "version": "4.3.1"
  }
 },
 "nbformat": 4,
 "nbformat_minor": 5
}

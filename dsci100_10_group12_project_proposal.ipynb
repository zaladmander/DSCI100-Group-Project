{
 "cells": [
  {
   "cell_type": "markdown",
   "id": "a2bb9869-d12b-475e-bc7e-fb881532d1fc",
   "metadata": {},
   "source": [
    "# Project Proposal\n"
   ]
  },
  {
   "cell_type": "markdown",
   "id": "41f25891-4fda-43af-839e-5da286f69411",
   "metadata": {},
   "source": [
    "Our Dataset:\n",
    "https://archive.ics.uci.edu/dataset/186/wine+quality\n"
   ]
  },
  {
   "cell_type": "code",
   "execution_count": null,
   "id": "9c5a28dd-54ae-4e01-a16b-bec07cfc618e",
   "metadata": {},
   "outputs": [],
   "source": []
  }
 ],
 "metadata": {
  "kernelspec": {
   "display_name": "R",
   "language": "R",
   "name": "ir"
  },
  "language_info": {
   "codemirror_mode": "r",
   "file_extension": ".r",
   "mimetype": "text/x-r-source",
   "name": "R",
   "pygments_lexer": "r",
   "version": "4.3.1"
  }
 },
 "nbformat": 4,
 "nbformat_minor": 5
}

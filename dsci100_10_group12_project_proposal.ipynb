{
 "cells": [
  {
   "cell_type": "markdown",
   "id": "b08601e2-b192-4646-94e5-f1e28d325d84",
   "metadata": {},
   "source": [
    "# Project Proposal"
   ]
  },
  {
   "cell_type": "markdown",
   "id": "e20ba23f-61e1-47b4-a928-797d063ec6e8",
   "metadata": {},
   "source": [
    "### Members:\n",
    "- Zander Holoboff (95785903)\n",
    "- Shuyu Li(58785809)\n",
    "- Kabir Sodhi(43245943)\n",
    "- Cheryl Ang (28952851)\n"
   ]
  },
  {
   "cell_type": "markdown",
   "id": "41f25891-4fda-43af-839e-5da286f69411",
   "metadata": {},
   "source": [
    "Our Dataset:\n",
    "https://archive.ics.uci.edu/dataset/186/wine+quality\n"
   ]
  },
  {
   "cell_type": "markdown",
   "id": "5cfbeb4d-f63c-47f5-8f4e-975dc580dac1",
   "metadata": {},
   "source": [
    "# Introduction\n",
    "*(Provide some relevant background information on the topic so that someone unfamiliar with it will be prepared to understand the rest of your proposal\n",
    "Clearly state the question you will try to answer with your project\n",
    "Identify and describe the dataset that will be used to answer the question)*\n",
    "\n",
    "**This project focuses on answering a classification question.**\n",
    "\n",
    "**Background information:**\n",
    "- Vinho Verde originates from the Minho region in northwestern Portugal. It is made from a blend of different grape varieties that maintains the wine's natural acidity and refreshing taste at the same time.\n",
    "- Vinho Verde means \"green wine\" in Portuguese, but the \"green\" in the name does not refer to the color of the wine itself, but to the fact that the wine is best consumed within a year or two of production.\n",
    "- Because red white has more vitamins in general than white wine, we will look at other variables likes sulfur dioxide, sulfate content, alcohol content, chloride content an citric acid content as predictors for the categories of either red or white wine.\n",
    "**Question:**\n",
    "\n",
    "*Can we accurately predict the color of Vinho Verde wine (either red or white) based on physicochemical and sensory variables?*\n",
    "\n",
    "**Description of the Dataset:**\n",
    "- The dataset includes two categories of wines: red and white wine. \n",
    "- Due to privacy and logistical issues, both datasets include only the following variables:\n",
    "\n",
    "- Fixed acidity: concentration of non-volatile acids in the wine\n",
    "- Volatile acidity: concentration of volatile acids in the wine\n",
    "- Citric acid: concentration of citric acid in the wine\n",
    "- Residual Sugar: the amount of sugar left in the wine after fermentation.\n",
    "- Chloride: concentration of salts in the wine\n",
    "\n",
    "These five variables are usually expressed in g/L (grams per liter).\n",
    "- Free Sulfur Dioxide: Concentration of free sulfur dioxide in the wine as a preservative and antioxidant.\n",
    "- Total Sulfur Dioxide: The total concentration of sulfur dioxide, both free and bound.\n",
    "- These two variables are usually expressed in parts per million (ppm).\n",
    "- Density: The density of the wine, usually measured in g/ml.\n",
    "- pH: The acidity or alkalinity of a wine, measured on a scale of 0 to 14, the lower the value, the higher the acidity.\n",
    "- Sulfate: The concentration of sulfur dioxide salts in a wine, usually expressed in grams per liter.\n",
    "- Alcohol content: The alcohol content of a wine, usually expressed as a percentage by volume.\n",
    "- Quality: Sensory variables representing the quality of a wine, which can be rated on a scale from poor to excellent.\n",
    "\n",
    "\n"
   ]
  },
  {
   "cell_type": "code",
   "execution_count": null,
   "id": "c89906e3-b3b1-46ab-94fb-7c44f9e9478f",
   "metadata": {},
   "outputs": [],
   "source": [
    "red_wine<-read_csv(\"winequality-red.csv\")"
   ]
  },
  {
   "cell_type": "code",
   "execution_count": null,
   "id": "a2c95183-d697-45eb-b509-3bb5dd6ac0e2",
   "metadata": {},
   "outputs": [],
   "source": []
  },
  {
   "cell_type": "code",
   "execution_count": null,
   "id": "42022758-58dd-493c-b38e-4e02f2d0d225",
   "metadata": {},
   "outputs": [],
   "source": []
  }
 ],
 "metadata": {
  "kernelspec": {
   "display_name": "R",
   "language": "R",
   "name": "ir"
  },
  "language_info": {
   "codemirror_mode": "r",
   "file_extension": ".r",
   "mimetype": "text/x-r-source",
   "name": "R",
   "pygments_lexer": "r",
   "version": "4.3.1"
  }
 },
 "nbformat": 4,
 "nbformat_minor": 5
}
